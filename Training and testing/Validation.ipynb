{
 "cells": [
  {
   "cell_type": "code",
   "execution_count": null,
   "metadata": {},
   "outputs": [],
   "source": [
    "model.eval()\n",
    "\n",
    "#beta = (1 / torch.sqrt(torch.tensor(num_embeddings, dtype=torch.float32)) * (1- (num_training_updates-5)/num_training_updates))\n",
    "\n",
    "beta = 64\n",
    "lambd = 0.001\n",
    "(valid_originals, _) = next(iter(validation_loader))\n",
    "valid_originals = valid_originals.to(device)\n",
    "\n",
    "vq_output_eval = model._pre_vq_conv(model._encoder(valid_originals))\n",
    "_, valid_quantize, _, _,_ = model._vq_vae(vq_output_eval,beta,lambd)\n",
    "valid_reconstructions = model._decoder(valid_quantize)\n"
   ]
  },
  {
   "cell_type": "code",
   "execution_count": null,
   "metadata": {},
   "outputs": [],
   "source": [
    "(train_originals, _) = next(iter(training_loader))\n",
    "train_originals = train_originals.to(device)\n",
    "_, train_reconstructions, _, _,_ = model._vq_vae(train_originals,beta,lambd)"
   ]
  },
  {
   "cell_type": "code",
   "execution_count": null,
   "metadata": {},
   "outputs": [],
   "source": [
    "\n",
    "def show(img):\n",
    "    npimg = img.numpy()\n",
    "    fig = plt.imshow(np.transpose(npimg, (1,2,0)), interpolation='nearest')\n",
    "    fig.axes.get_xaxis().set_visible(False)\n",
    "    fig.axes.get_yaxis().set_visible(False)\n",
    "    "
   ]
  },
  {
   "cell_type": "code",
   "execution_count": null,
   "metadata": {},
   "outputs": [],
   "source": [
    "show(make_grid(valid_reconstructions.cpu().data)+0.5, )\n"
   ]
  },
  {
   "cell_type": "code",
   "execution_count": null,
   "metadata": {},
   "outputs": [],
   "source": [
    "show(make_grid(valid_originals.cpu()+0.5))"
   ]
  },
  {
   "cell_type": "code",
   "execution_count": null,
   "metadata": {},
   "outputs": [],
   "source": [
    "proj = umap.UMAP(n_neighbors=3,\n",
    "                 min_dist=0.1,\n",
    "                 metric='cosine').fit_transform(model._vq_vae._embedding.weight.data.cpu())\n",
    "\n",
    "\n",
    "plt.scatter(proj[:,0], proj[:,1], alpha=0.3,label=\"k-means\")\n",
    "plt.legend()\n",
    "plt.xlabel(r\"$d_1$\")\n",
    "plt.ylabel(r\"$d_2$\")"
   ]
  }
 ],
 "metadata": {
  "language_info": {
   "name": "python"
  }
 },
 "nbformat": 4,
 "nbformat_minor": 2
}
